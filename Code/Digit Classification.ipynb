{
 "cells": [
  {
   "cell_type": "code",
   "execution_count": 1,
   "id": "c86bc756",
   "metadata": {},
   "outputs": [],
   "source": [
    "import numpy as np\n",
    "import matplotlib.pyplot as plt\n",
    "import tensorflow as tf\n",
    "import keras\n",
    "from sklearn.preprocessing import LabelBinarizer"
   ]
  },
  {
   "cell_type": "code",
   "execution_count": 2,
   "id": "b5c55b2d",
   "metadata": {},
   "outputs": [],
   "source": [
    "from keras.datasets import mnist\n",
    "from keras.models import Sequential\n",
    "from keras.layers import Dense\n",
    "from keras.layers import Flatten\n",
    "from keras.layers import Activation\n",
    "from keras.layers import BatchNormalization\n",
    "from keras.optimizers import Adam"
   ]
  },
  {
   "cell_type": "code",
   "execution_count": 3,
   "id": "6ab4d20a",
   "metadata": {},
   "outputs": [],
   "source": [
    "# Loading Dataset\n",
    "(x_train,y_train),(x_test,y_test) = mnist.load_data()"
   ]
  },
  {
   "cell_type": "code",
   "execution_count": 4,
   "id": "09d5ea63",
   "metadata": {},
   "outputs": [
    {
     "name": "stdout",
     "output_type": "stream",
     "text": [
      "Shape of training data:  (60000, 28, 28)\n",
      "Shape of test data:  (10000, 28, 28)\n"
     ]
    }
   ],
   "source": [
    "print(\"Shape of training data: \",x_train.shape)\n",
    "print(\"Shape of test data: \",x_test.shape)"
   ]
  },
  {
   "cell_type": "code",
   "execution_count": 5,
   "id": "f26d9379",
   "metadata": {},
   "outputs": [],
   "source": [
    "# Normalizing the Feature values\n",
    "x_train = x_train.astype(\"float32\")/255.0\n",
    "x_test = x_test.astype(\"float32\")/255.0"
   ]
  },
  {
   "cell_type": "code",
   "execution_count": 6,
   "id": "324ea500",
   "metadata": {},
   "outputs": [],
   "source": [
    "# Convert the labels from integer to vector\n",
    "y_train = LabelBinarizer().fit_transform(y_train)\n",
    "y_test = LabelBinarizer().fit_transform(y_test)"
   ]
  },
  {
   "cell_type": "code",
   "execution_count": 7,
   "id": "e2d287c3",
   "metadata": {},
   "outputs": [],
   "source": [
    "#creating the Deep Network \n",
    "# Model 1 \n",
    "# 1.Network 1 with activation function Sigmoid everywhere\n",
    "model_1 = Sequential()\n",
    "model_1.add(Flatten(input_shape = (28,28)))\n",
    "for i in range(10):\n",
    "    model_1.add(Dense(10)) #each layer has 10 neurons\n",
    "    model_1.add(Activation(\"sigmoid\"))\n",
    "    model_1.add(BatchNormalization())\n",
    "model_1.add(Dense(10,activation=\"sigmoid\"))"
   ]
  },
  {
   "cell_type": "code",
   "execution_count": 8,
   "id": "1fdb0ff4",
   "metadata": {},
   "outputs": [
    {
     "name": "stdout",
     "output_type": "stream",
     "text": [
      "Model: \"sequential\"\n",
      "_________________________________________________________________\n",
      " Layer (type)                Output Shape              Param #   \n",
      "=================================================================\n",
      " flatten (Flatten)           (None, 784)               0         \n",
      "                                                                 \n",
      " dense (Dense)               (None, 10)                7850      \n",
      "                                                                 \n",
      " activation (Activation)     (None, 10)                0         \n",
      "                                                                 \n",
      " batch_normalization (BatchN  (None, 10)               40        \n",
      " ormalization)                                                   \n",
      "                                                                 \n",
      " dense_1 (Dense)             (None, 10)                110       \n",
      "                                                                 \n",
      " activation_1 (Activation)   (None, 10)                0         \n",
      "                                                                 \n",
      " batch_normalization_1 (Batc  (None, 10)               40        \n",
      " hNormalization)                                                 \n",
      "                                                                 \n",
      " dense_2 (Dense)             (None, 10)                110       \n",
      "                                                                 \n",
      " activation_2 (Activation)   (None, 10)                0         \n",
      "                                                                 \n",
      " batch_normalization_2 (Batc  (None, 10)               40        \n",
      " hNormalization)                                                 \n",
      "                                                                 \n",
      " dense_3 (Dense)             (None, 10)                110       \n",
      "                                                                 \n",
      " activation_3 (Activation)   (None, 10)                0         \n",
      "                                                                 \n",
      " batch_normalization_3 (Batc  (None, 10)               40        \n",
      " hNormalization)                                                 \n",
      "                                                                 \n",
      " dense_4 (Dense)             (None, 10)                110       \n",
      "                                                                 \n",
      " activation_4 (Activation)   (None, 10)                0         \n",
      "                                                                 \n",
      " batch_normalization_4 (Batc  (None, 10)               40        \n",
      " hNormalization)                                                 \n",
      "                                                                 \n",
      " dense_5 (Dense)             (None, 10)                110       \n",
      "                                                                 \n",
      " activation_5 (Activation)   (None, 10)                0         \n",
      "                                                                 \n",
      " batch_normalization_5 (Batc  (None, 10)               40        \n",
      " hNormalization)                                                 \n",
      "                                                                 \n",
      " dense_6 (Dense)             (None, 10)                110       \n",
      "                                                                 \n",
      " activation_6 (Activation)   (None, 10)                0         \n",
      "                                                                 \n",
      " batch_normalization_6 (Batc  (None, 10)               40        \n",
      " hNormalization)                                                 \n",
      "                                                                 \n",
      " dense_7 (Dense)             (None, 10)                110       \n",
      "                                                                 \n",
      " activation_7 (Activation)   (None, 10)                0         \n",
      "                                                                 \n",
      " batch_normalization_7 (Batc  (None, 10)               40        \n",
      " hNormalization)                                                 \n",
      "                                                                 \n",
      " dense_8 (Dense)             (None, 10)                110       \n",
      "                                                                 \n",
      " activation_8 (Activation)   (None, 10)                0         \n",
      "                                                                 \n",
      " batch_normalization_8 (Batc  (None, 10)               40        \n",
      " hNormalization)                                                 \n",
      "                                                                 \n",
      " dense_9 (Dense)             (None, 10)                110       \n",
      "                                                                 \n",
      " activation_9 (Activation)   (None, 10)                0         \n",
      "                                                                 \n",
      " batch_normalization_9 (Batc  (None, 10)               40        \n",
      " hNormalization)                                                 \n",
      "                                                                 \n",
      " dense_10 (Dense)            (None, 10)                110       \n",
      "                                                                 \n",
      "=================================================================\n",
      "Total params: 9,350\n",
      "Trainable params: 9,150\n",
      "Non-trainable params: 200\n",
      "_________________________________________________________________\n"
     ]
    }
   ],
   "source": [
    "model_1.summary()"
   ]
  },
  {
   "cell_type": "code",
   "execution_count": 9,
   "id": "062098c7",
   "metadata": {},
   "outputs": [],
   "source": [
    "#training model using ADAM optimizer\n",
    "batch_size = 64\n",
    "model_1.compile(optimizer=Adam(learning_rate=0.0001),loss=\"categorical_crossentropy\",metrics=['accuracy'])"
   ]
  },
  {
   "cell_type": "code",
   "execution_count": 10,
   "id": "c347edef",
   "metadata": {},
   "outputs": [
    {
     "name": "stdout",
     "output_type": "stream",
     "text": [
      "Epoch 1/25\n",
      "938/938 [==============================] - 7s 4ms/step - loss: 1.5822 - accuracy: 0.5038 - val_loss: 1.1544 - val_accuracy: 0.6820\n",
      "Epoch 2/25\n",
      "938/938 [==============================] - 4s 4ms/step - loss: 1.0041 - accuracy: 0.7265 - val_loss: 0.7736 - val_accuracy: 0.8282\n",
      "Epoch 3/25\n",
      "938/938 [==============================] - 4s 4ms/step - loss: 0.7518 - accuracy: 0.8136 - val_loss: 0.5847 - val_accuracy: 0.8682\n",
      "Epoch 4/25\n",
      "938/938 [==============================] - 4s 4ms/step - loss: 0.6093 - accuracy: 0.8464 - val_loss: 0.4780 - val_accuracy: 0.8876\n",
      "Epoch 5/25\n",
      "938/938 [==============================] - 4s 4ms/step - loss: 0.5197 - accuracy: 0.8642 - val_loss: 0.4094 - val_accuracy: 0.8968\n",
      "Epoch 6/25\n",
      "938/938 [==============================] - 4s 4ms/step - loss: 0.4643 - accuracy: 0.8752 - val_loss: 0.3649 - val_accuracy: 0.9022\n",
      "Epoch 7/25\n",
      "938/938 [==============================] - 4s 4ms/step - loss: 0.4300 - accuracy: 0.8830 - val_loss: 0.3374 - val_accuracy: 0.9096\n",
      "Epoch 8/25\n",
      "938/938 [==============================] - 4s 4ms/step - loss: 0.4023 - accuracy: 0.8881 - val_loss: 0.3159 - val_accuracy: 0.9116\n",
      "Epoch 9/25\n",
      "938/938 [==============================] - 4s 4ms/step - loss: 0.3851 - accuracy: 0.8915 - val_loss: 0.3011 - val_accuracy: 0.9137\n",
      "Epoch 10/25\n",
      "938/938 [==============================] - 4s 4ms/step - loss: 0.3668 - accuracy: 0.8966 - val_loss: 0.2891 - val_accuracy: 0.9172\n",
      "Epoch 11/25\n",
      "938/938 [==============================] - 4s 4ms/step - loss: 0.3527 - accuracy: 0.9006 - val_loss: 0.2772 - val_accuracy: 0.9201\n",
      "Epoch 12/25\n",
      "938/938 [==============================] - 4s 4ms/step - loss: 0.3421 - accuracy: 0.9022 - val_loss: 0.2695 - val_accuracy: 0.9236\n",
      "Epoch 13/25\n",
      "938/938 [==============================] - 4s 4ms/step - loss: 0.3336 - accuracy: 0.9041 - val_loss: 0.2630 - val_accuracy: 0.9259\n",
      "Epoch 14/25\n",
      "938/938 [==============================] - 4s 4ms/step - loss: 0.3235 - accuracy: 0.9064 - val_loss: 0.2571 - val_accuracy: 0.9262\n",
      "Epoch 15/25\n",
      "938/938 [==============================] - 4s 4ms/step - loss: 0.3141 - accuracy: 0.9097 - val_loss: 0.2500 - val_accuracy: 0.9276\n",
      "Epoch 16/25\n",
      "938/938 [==============================] - 4s 4ms/step - loss: 0.3110 - accuracy: 0.9102 - val_loss: 0.2427 - val_accuracy: 0.9310\n",
      "Epoch 17/25\n",
      "938/938 [==============================] - 4s 4ms/step - loss: 0.3018 - accuracy: 0.9131 - val_loss: 0.2396 - val_accuracy: 0.9309\n",
      "Epoch 18/25\n",
      "938/938 [==============================] - 4s 4ms/step - loss: 0.2950 - accuracy: 0.9151 - val_loss: 0.2326 - val_accuracy: 0.9351\n",
      "Epoch 19/25\n",
      "938/938 [==============================] - 4s 4ms/step - loss: 0.2929 - accuracy: 0.9153 - val_loss: 0.2282 - val_accuracy: 0.9344\n",
      "Epoch 20/25\n",
      "938/938 [==============================] - 4s 4ms/step - loss: 0.2834 - accuracy: 0.9179 - val_loss: 0.2257 - val_accuracy: 0.9354\n",
      "Epoch 21/25\n",
      "938/938 [==============================] - 4s 4ms/step - loss: 0.2790 - accuracy: 0.9194 - val_loss: 0.2219 - val_accuracy: 0.9354\n",
      "Epoch 22/25\n",
      "938/938 [==============================] - 4s 4ms/step - loss: 0.2769 - accuracy: 0.9196 - val_loss: 0.2173 - val_accuracy: 0.9375\n",
      "Epoch 23/25\n",
      "938/938 [==============================] - 4s 4ms/step - loss: 0.2714 - accuracy: 0.9202 - val_loss: 0.2154 - val_accuracy: 0.9372\n",
      "Epoch 24/25\n",
      "938/938 [==============================] - 4s 4ms/step - loss: 0.2664 - accuracy: 0.9223 - val_loss: 0.2134 - val_accuracy: 0.9386\n",
      "Epoch 25/25\n",
      "938/938 [==============================] - 4s 4ms/step - loss: 0.2676 - accuracy: 0.9214 - val_loss: 0.2086 - val_accuracy: 0.9392\n"
     ]
    },
    {
     "data": {
      "text/plain": [
       "<keras.callbacks.History at 0x24c43cb7e20>"
      ]
     },
     "execution_count": 10,
     "metadata": {},
     "output_type": "execute_result"
    }
   ],
   "source": [
    "model_1.fit(x_train,y_train, epochs=25,batch_size=batch_size,validation_data=(x_test,y_test), shuffle=True, verbose=1)"
   ]
  },
  {
   "cell_type": "code",
   "execution_count": 11,
   "id": "e3a0acda",
   "metadata": {},
   "outputs": [
    {
     "name": "stdout",
     "output_type": "stream",
     "text": [
      "313/313 [==============================] - 1s 2ms/step - loss: 0.2086 - accuracy: 0.9392\n",
      "Test accuracy for model 1:  93.91999840736389  %\n"
     ]
    }
   ],
   "source": [
    "# evaluate the network on the testing data to obtain our final classifications\n",
    "test_loss_model_1, test_acc_model_1 = model_1.evaluate(x_test,y_test)\n",
    "print(\"Test accuracy for model 1: \", test_acc_model_1*100,\" %\")"
   ]
  },
  {
   "cell_type": "code",
   "execution_count": 12,
   "id": "c7f455ab",
   "metadata": {},
   "outputs": [],
   "source": [
    "# Model 2\n",
    "#2.Network 2 with activation function ReLU except output layer with activation function Sigmoid\n",
    "model_2 = Sequential()\n",
    "model_2.add(Flatten(input_shape = (28,28)))\n",
    "for i in range(10):\n",
    "    model_2.add(Dense(10))\n",
    "    model_2.add(Activation(\"relu\"))\n",
    "    model_2.add(BatchNormalization())\n",
    "model_2.add(Dense(10,activation=\"sigmoid\"))"
   ]
  },
  {
   "cell_type": "code",
   "execution_count": 13,
   "id": "d31b3ba1",
   "metadata": {},
   "outputs": [
    {
     "name": "stdout",
     "output_type": "stream",
     "text": [
      "Model: \"sequential_1\"\n",
      "_________________________________________________________________\n",
      " Layer (type)                Output Shape              Param #   \n",
      "=================================================================\n",
      " flatten_1 (Flatten)         (None, 784)               0         \n",
      "                                                                 \n",
      " dense_11 (Dense)            (None, 10)                7850      \n",
      "                                                                 \n",
      " activation_10 (Activation)  (None, 10)                0         \n",
      "                                                                 \n",
      " batch_normalization_10 (Bat  (None, 10)               40        \n",
      " chNormalization)                                                \n",
      "                                                                 \n",
      " dense_12 (Dense)            (None, 10)                110       \n",
      "                                                                 \n",
      " activation_11 (Activation)  (None, 10)                0         \n",
      "                                                                 \n",
      " batch_normalization_11 (Bat  (None, 10)               40        \n",
      " chNormalization)                                                \n",
      "                                                                 \n",
      " dense_13 (Dense)            (None, 10)                110       \n",
      "                                                                 \n",
      " activation_12 (Activation)  (None, 10)                0         \n",
      "                                                                 \n",
      " batch_normalization_12 (Bat  (None, 10)               40        \n",
      " chNormalization)                                                \n",
      "                                                                 \n",
      " dense_14 (Dense)            (None, 10)                110       \n",
      "                                                                 \n",
      " activation_13 (Activation)  (None, 10)                0         \n",
      "                                                                 \n",
      " batch_normalization_13 (Bat  (None, 10)               40        \n",
      " chNormalization)                                                \n",
      "                                                                 \n",
      " dense_15 (Dense)            (None, 10)                110       \n",
      "                                                                 \n",
      " activation_14 (Activation)  (None, 10)                0         \n",
      "                                                                 \n",
      " batch_normalization_14 (Bat  (None, 10)               40        \n",
      " chNormalization)                                                \n",
      "                                                                 \n",
      " dense_16 (Dense)            (None, 10)                110       \n",
      "                                                                 \n",
      " activation_15 (Activation)  (None, 10)                0         \n",
      "                                                                 \n",
      " batch_normalization_15 (Bat  (None, 10)               40        \n",
      " chNormalization)                                                \n",
      "                                                                 \n",
      " dense_17 (Dense)            (None, 10)                110       \n",
      "                                                                 \n",
      " activation_16 (Activation)  (None, 10)                0         \n",
      "                                                                 \n",
      " batch_normalization_16 (Bat  (None, 10)               40        \n",
      " chNormalization)                                                \n",
      "                                                                 \n",
      " dense_18 (Dense)            (None, 10)                110       \n",
      "                                                                 \n",
      " activation_17 (Activation)  (None, 10)                0         \n",
      "                                                                 \n",
      " batch_normalization_17 (Bat  (None, 10)               40        \n",
      " chNormalization)                                                \n",
      "                                                                 \n",
      " dense_19 (Dense)            (None, 10)                110       \n",
      "                                                                 \n",
      " activation_18 (Activation)  (None, 10)                0         \n",
      "                                                                 \n",
      " batch_normalization_18 (Bat  (None, 10)               40        \n",
      " chNormalization)                                                \n",
      "                                                                 \n",
      " dense_20 (Dense)            (None, 10)                110       \n",
      "                                                                 \n",
      " activation_19 (Activation)  (None, 10)                0         \n",
      "                                                                 \n",
      " batch_normalization_19 (Bat  (None, 10)               40        \n",
      " chNormalization)                                                \n",
      "                                                                 \n",
      " dense_21 (Dense)            (None, 10)                110       \n",
      "                                                                 \n",
      "=================================================================\n",
      "Total params: 9,350\n",
      "Trainable params: 9,150\n",
      "Non-trainable params: 200\n",
      "_________________________________________________________________\n"
     ]
    }
   ],
   "source": [
    "model_2.summary()"
   ]
  },
  {
   "cell_type": "code",
   "execution_count": 14,
   "id": "60f2f441",
   "metadata": {},
   "outputs": [],
   "source": [
    "# training the model using ADAM optimizer\n",
    "batch_size = 64\n",
    "model_2.compile(optimizer=Adam(learning_rate=0.0001),loss=\"categorical_crossentropy\",metrics=['accuracy'])"
   ]
  },
  {
   "cell_type": "code",
   "execution_count": 15,
   "id": "e55d4caf",
   "metadata": {},
   "outputs": [
    {
     "name": "stdout",
     "output_type": "stream",
     "text": [
      "Epoch 1/25\n",
      "938/938 [==============================] - 7s 5ms/step - loss: 2.3914 - accuracy: 0.1556 - val_loss: 2.1689 - val_accuracy: 0.2282\n",
      "Epoch 2/25\n",
      "938/938 [==============================] - 4s 4ms/step - loss: 2.0575 - accuracy: 0.2873 - val_loss: 1.8814 - val_accuracy: 0.3567\n",
      "Epoch 3/25\n",
      "938/938 [==============================] - 4s 4ms/step - loss: 1.7931 - accuracy: 0.3968 - val_loss: 1.5965 - val_accuracy: 0.4559\n",
      "Epoch 4/25\n",
      "938/938 [==============================] - 4s 4ms/step - loss: 1.5287 - accuracy: 0.4685 - val_loss: 1.3381 - val_accuracy: 0.5188\n",
      "Epoch 5/25\n",
      "938/938 [==============================] - 4s 4ms/step - loss: 1.3058 - accuracy: 0.5414 - val_loss: 1.1240 - val_accuracy: 0.6150\n",
      "Epoch 6/25\n",
      "938/938 [==============================] - 4s 4ms/step - loss: 1.1391 - accuracy: 0.6044 - val_loss: 0.9713 - val_accuracy: 0.6750\n",
      "Epoch 7/25\n",
      "938/938 [==============================] - 4s 4ms/step - loss: 1.0163 - accuracy: 0.6520 - val_loss: 0.8629 - val_accuracy: 0.7133\n",
      "Epoch 8/25\n",
      "938/938 [==============================] - 4s 4ms/step - loss: 0.9243 - accuracy: 0.6859 - val_loss: 0.7768 - val_accuracy: 0.7494\n",
      "Epoch 9/25\n",
      "938/938 [==============================] - 4s 4ms/step - loss: 0.8466 - accuracy: 0.7215 - val_loss: 0.7075 - val_accuracy: 0.7781\n",
      "Epoch 10/25\n",
      "938/938 [==============================] - 4s 4ms/step - loss: 0.7829 - accuracy: 0.7522 - val_loss: 0.6446 - val_accuracy: 0.8113\n",
      "Epoch 11/25\n",
      "938/938 [==============================] - 4s 4ms/step - loss: 0.7253 - accuracy: 0.7798 - val_loss: 0.5805 - val_accuracy: 0.8381\n",
      "Epoch 12/25\n",
      "938/938 [==============================] - 4s 4ms/step - loss: 0.6794 - accuracy: 0.8000 - val_loss: 0.5350 - val_accuracy: 0.8531\n",
      "Epoch 13/25\n",
      "938/938 [==============================] - 4s 4ms/step - loss: 0.6366 - accuracy: 0.8164 - val_loss: 0.5055 - val_accuracy: 0.8620\n",
      "Epoch 14/25\n",
      "938/938 [==============================] - 4s 4ms/step - loss: 0.6082 - accuracy: 0.8249 - val_loss: 0.4819 - val_accuracy: 0.8687\n",
      "Epoch 15/25\n",
      "938/938 [==============================] - 4s 4ms/step - loss: 0.5856 - accuracy: 0.8345 - val_loss: 0.4658 - val_accuracy: 0.8743\n",
      "Epoch 16/25\n",
      "938/938 [==============================] - 4s 4ms/step - loss: 0.5702 - accuracy: 0.8379 - val_loss: 0.4530 - val_accuracy: 0.8764\n",
      "Epoch 17/25\n",
      "938/938 [==============================] - 4s 4ms/step - loss: 0.5453 - accuracy: 0.8466 - val_loss: 0.4332 - val_accuracy: 0.8835\n",
      "Epoch 18/25\n",
      "938/938 [==============================] - 4s 4ms/step - loss: 0.5348 - accuracy: 0.8505 - val_loss: 0.4208 - val_accuracy: 0.8855\n",
      "Epoch 19/25\n",
      "938/938 [==============================] - 4s 4ms/step - loss: 0.5256 - accuracy: 0.8531 - val_loss: 0.4142 - val_accuracy: 0.8881\n",
      "Epoch 20/25\n",
      "938/938 [==============================] - 4s 4ms/step - loss: 0.5050 - accuracy: 0.8608 - val_loss: 0.4079 - val_accuracy: 0.8904\n",
      "Epoch 21/25\n",
      "938/938 [==============================] - 4s 4ms/step - loss: 0.5013 - accuracy: 0.8608 - val_loss: 0.3997 - val_accuracy: 0.8937\n",
      "Epoch 22/25\n",
      "938/938 [==============================] - 4s 4ms/step - loss: 0.4922 - accuracy: 0.8658 - val_loss: 0.3955 - val_accuracy: 0.8956\n",
      "Epoch 23/25\n",
      "938/938 [==============================] - 4s 4ms/step - loss: 0.4786 - accuracy: 0.8689 - val_loss: 0.3874 - val_accuracy: 0.8969\n",
      "Epoch 24/25\n",
      "938/938 [==============================] - 4s 4ms/step - loss: 0.4705 - accuracy: 0.8709 - val_loss: 0.3841 - val_accuracy: 0.8996\n",
      "Epoch 25/25\n",
      "938/938 [==============================] - 4s 4ms/step - loss: 0.4637 - accuracy: 0.8747 - val_loss: 0.3810 - val_accuracy: 0.8980\n"
     ]
    },
    {
     "data": {
      "text/plain": [
       "<keras.callbacks.History at 0x24c46d52760>"
      ]
     },
     "execution_count": 15,
     "metadata": {},
     "output_type": "execute_result"
    }
   ],
   "source": [
    "model_2.fit(x_train,y_train, epochs=25,batch_size=batch_size,validation_data=(x_test,y_test), shuffle=True, verbose=1)"
   ]
  },
  {
   "cell_type": "code",
   "execution_count": 16,
   "id": "cbb0cd1d",
   "metadata": {},
   "outputs": [
    {
     "name": "stdout",
     "output_type": "stream",
     "text": [
      "313/313 [==============================] - 1s 2ms/step - loss: 0.3810 - accuracy: 0.8980\n",
      "Test accuracy for model 2:  89.80000019073486  %\n"
     ]
    }
   ],
   "source": [
    "# evaluate the network on the testing data to obtain our final classifications\n",
    "test_loss_model_2, test_acc_model_2 = model_2.evaluate(x_test,y_test)\n",
    "print(\"Test accuracy for model 2: \", test_acc_model_2*100,\" %\")"
   ]
  },
  {
   "cell_type": "code",
   "execution_count": 17,
   "id": "b41e8921",
   "metadata": {},
   "outputs": [
    {
     "data": {
      "image/png": "[encoded data removed]",
      "text/plain": [
       "<Figure size 432x288 with 2 Axes>"
      ]
     },
     "metadata": {
      "needs_background": "light"
     },
     "output_type": "display_data"
    }
   ],
   "source": [
    "# Showing the testing input\n",
    "plt.figure()\n",
    "plt.imshow(x_test[1])\n",
    "plt.colorbar()\n",
    "plt.grid(False)\n",
    "plt.show()"
   ]
  },
  {
   "cell_type": "code",
   "execution_count": 18,
   "id": "d1c8a775",
   "metadata": {},
   "outputs": [
    {
     "name": "stdout",
     "output_type": "stream",
     "text": [
      "313/313 [==============================] - 1s 2ms/step\n",
      "[0.2966543  0.7037622  0.9980452  0.8917778  0.0046614  0.6652499\n",
      " 0.5423747  0.15814027 0.19204682 0.0630244 ]\n",
      "Predicted Digit: 2\n"
     ]
    }
   ],
   "source": [
    "# prediction on test data for model 1\n",
    "predictions_1 = model_1.predict(x_test)\n",
    "print(predictions_1[1])\n",
    "print(\"Predicted Digit:\",np.argmax(predictions_1[1]))"
   ]
  },
  {
   "cell_type": "code",
   "execution_count": 19,
   "id": "ff8c67ed",
   "metadata": {},
   "outputs": [
    {
     "name": "stdout",
     "output_type": "stream",
     "text": [
      "313/313 [==============================] - 1s 2ms/step\n",
      "[0.6376174  0.21247324 0.9983707  0.81103754 0.12796004 0.31953353\n",
      " 0.8926251  0.19349602 0.27795613 0.5385275 ]\n",
      "Predicted Digit: 2\n"
     ]
    }
   ],
   "source": [
    "# prediction on test data for model 2\n",
    "predictions_2 = model_2.predict(x_test)\n",
    "print(predictions_2[1])\n",
    "print(\"Predicted Digit:\",np.argmax(predictions_2[1]))"
   ]
  },
  {
   "cell_type": "markdown",
   "id": "95c36912",
   "metadata": {},
   "source": [
    "Model 1 - Network 1 with activation function Sigmoid everywhere\n",
    "\n",
    "Test Accuracy for Model 1:  93.92 %\n",
    "\n",
    "Model 2 - Network 2 with activation function ReLU (except in the output layer, where the activation function is Sigmoid)\n",
    "\n",
    "Test Accuracy for Model 2:  89.80 %\n"
   ]
  },
  {
   "cell_type": "code",
   "execution_count": null,
   "id": "074ba73a",
   "metadata": {},
   "outputs": [],
   "source": []
  }
 ],
 "metadata": {
  "kernelspec": {
   "display_name": "Python 3 (ipykernel)",
   "language": "python",
   "name": "python3"
  },
  "language_info": {
   "codemirror_mode": {
    "name": "ipython",
    "version": 3
   },
   "file_extension": ".py",
   "mimetype": "text/x-python",
   "name": "python",
   "nbconvert_exporter": "python",
   "pygments_lexer": "ipython3",
   "version": "3.9.12"
  }
 },
 "nbformat": 4,
 "nbformat_minor": 5
}
